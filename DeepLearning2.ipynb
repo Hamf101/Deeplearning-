{
  "nbformat": 4,
  "nbformat_minor": 0,
  "metadata": {
    "colab": {
      "provenance": []
    },
    "kernelspec": {
      "name": "python3",
      "display_name": "Python 3"
    },
    "language_info": {
      "name": "python"
    }
  },
  "cells": [
    {
      "cell_type": "markdown",
      "source": [
        "### **Different way to create the model**"
      ],
      "metadata": {
        "id": "xC_zk4yKJ13Y"
      }
    },
    {
      "cell_type": "code",
      "execution_count": null,
      "metadata": {
        "id": "t4f9tfsMGG-C"
      },
      "outputs": [],
      "source": [
        "import tensorflow as tf\n",
        "from tensorflow import keras\n",
        "from tensorflow.keras import layers"
      ]
    },
    {
      "cell_type": "code",
      "source": [
        "#load dataset\n",
        "from tensorflow.keras.datasets import mnist\n",
        "(train_images,train_labels),(test_images, test_labels)=mnist.load_data()"
      ],
      "metadata": {
        "colab": {
          "base_uri": "https://localhost:8080/"
        },
        "id": "f7a4iDxhGpDh",
        "outputId": "467831bf-472c-43f6-b439-3bf8cba87e83"
      },
      "execution_count": null,
      "outputs": [
        {
          "output_type": "stream",
          "name": "stdout",
          "text": [
            "Downloading data from https://storage.googleapis.com/tensorflow/tf-keras-datasets/mnist.npz\n",
            "11490434/11490434 [==============================] - 0s 0us/step\n"
          ]
        }
      ]
    },
    {
      "cell_type": "code",
      "source": [
        "#create the model\n",
        "'''\n",
        "model = keras.Sequential(\n",
        "    [\n",
        "        layers.Dense(512,activation='relu'),\n",
        "        layers.Dense(10,activation='softmax')\n",
        "    ]\n",
        ")\n",
        "'''\n",
        "model = keras.Sequential()"
      ],
      "metadata": {
        "id": "oafVqH7sHPVx"
      },
      "execution_count": null,
      "outputs": []
    },
    {
      "cell_type": "code",
      "source": [
        "#add the hidden layer\n",
        "model.add(layers.Dense(512, activation=\"relu\"))\n",
        "model.add(layers.Dense(10, activation=\"softmax\"))"
      ],
      "metadata": {
        "id": "qT8iJ82NIE9Y"
      },
      "execution_count": 28,
      "outputs": []
    },
    {
      "cell_type": "code",
      "source": [
        "#compile the model\n",
        "'''\n",
        "model.compile(\n",
        "    optimizer=\"rmsprop\",\n",
        "    loss=\"sparse_categorical_crossentropy\",\n",
        "    metrics=[\"accuracy\"]\n",
        ")\n",
        "'''\n",
        "opt = keras.optimizers.RMSprop(learning_rate = 0.001)"
      ],
      "metadata": {
        "id": "JW8GE0yyIhug"
      },
      "execution_count": 22,
      "outputs": []
    },
    {
      "cell_type": "code",
      "source": [
        "model.compile(\n",
        "    optimizer=opt,\n",
        "    loss=\"sparse_categorical_crossentropy\",\n",
        "    metrics=[\"accuracy\"]\n",
        ")"
      ],
      "metadata": {
        "id": "939kpkq9KmJb"
      },
      "execution_count": 23,
      "outputs": []
    },
    {
      "cell_type": "code",
      "source": [
        "train_images = train_images.reshape((60000,28*28))\n",
        "test_images = test_images.reshape((10000,28*28))"
      ],
      "metadata": {
        "id": "B4pJDa36KzNF"
      },
      "execution_count": 24,
      "outputs": []
    },
    {
      "cell_type": "code",
      "source": [
        "train_images = train_images.astype(\"float32\")/255\n",
        "test_images = test_images.astype(\"float32\")/255"
      ],
      "metadata": {
        "id": "NOgR58sXLVGV"
      },
      "execution_count": 25,
      "outputs": []
    },
    {
      "cell_type": "code",
      "source": [
        "model.fit(train_images, train_labels, epochs = 5, batch_size = 100)"
      ],
      "metadata": {
        "colab": {
          "base_uri": "https://localhost:8080/"
        },
        "id": "3HmPg4S8LsrL",
        "outputId": "91f902a1-894c-41ce-d34f-ff1f39e73d34"
      },
      "execution_count": 29,
      "outputs": [
        {
          "output_type": "stream",
          "name": "stdout",
          "text": [
            "Epoch 1/5\n",
            "600/600 [==============================] - 7s 12ms/step - loss: 0.2091 - accuracy: 0.9420\n",
            "Epoch 2/5\n",
            "600/600 [==============================] - 7s 11ms/step - loss: 0.1961 - accuracy: 0.9455\n",
            "Epoch 3/5\n",
            "600/600 [==============================] - 7s 12ms/step - loss: 0.1844 - accuracy: 0.9487\n",
            "Epoch 4/5\n",
            "600/600 [==============================] - 7s 11ms/step - loss: 0.1721 - accuracy: 0.9521\n",
            "Epoch 5/5\n",
            "600/600 [==============================] - 7s 12ms/step - loss: 0.1636 - accuracy: 0.9534\n"
          ]
        },
        {
          "output_type": "execute_result",
          "data": {
            "text/plain": [
              "<keras.src.callbacks.History at 0x7a4f29567850>"
            ]
          },
          "metadata": {},
          "execution_count": 29
        }
      ]
    },
    {
      "cell_type": "code",
      "source": [
        "\n",
        "test_labels[0:10]"
      ],
      "metadata": {
        "colab": {
          "base_uri": "https://localhost:8080/"
        },
        "id": "rWpkUC_8M_KR",
        "outputId": "61f8f082-912d-47cd-9f5b-1e7682a9c6b0"
      },
      "execution_count": 14,
      "outputs": [
        {
          "output_type": "execute_result",
          "data": {
            "text/plain": [
              "array([7, 2, 1, 0, 4, 1, 4, 9, 5, 9], dtype=uint8)"
            ]
          },
          "metadata": {},
          "execution_count": 14
        }
      ]
    },
    {
      "cell_type": "code",
      "source": [
        "#prediction\n",
        "test1 = test_images[0:10]\n",
        "predictions = model.predict(test1)"
      ],
      "metadata": {
        "colab": {
          "base_uri": "https://localhost:8080/"
        },
        "id": "HkyRkJnUN-x6",
        "outputId": "6ad425e8-83be-4007-9fa0-e36d13209911"
      },
      "execution_count": 15,
      "outputs": [
        {
          "output_type": "stream",
          "name": "stdout",
          "text": [
            "1/1 [==============================] - 0s 159ms/step\n"
          ]
        }
      ]
    },
    {
      "cell_type": "code",
      "source": [
        "#prediction for the first image\n",
        "for i in range(10):\n",
        "  print(\"image\", i, \":\", predictions[0, i])"
      ],
      "metadata": {
        "colab": {
          "base_uri": "https://localhost:8080/"
        },
        "id": "CvTvvCuXOCu9",
        "outputId": "f4244683-9326-4af3-ba95-ebc5e6665ce2"
      },
      "execution_count": 17,
      "outputs": [
        {
          "output_type": "stream",
          "name": "stdout",
          "text": [
            "image 0 : 1.1412287e-08\n",
            "image 1 : 3.6233998e-09\n",
            "image 2 : 4.418543e-06\n",
            "image 3 : 5.274169e-05\n",
            "image 4 : 7.932488e-13\n",
            "image 5 : 4.56256e-08\n",
            "image 6 : 1.5875184e-12\n",
            "image 7 : 0.99994177\n",
            "image 8 : 7.7516795e-08\n",
            "image 9 : 9.3727317e-07\n"
          ]
        }
      ]
    },
    {
      "cell_type": "markdown",
      "source": [
        "first image is 7 and the prediction gives a .99 probability that the image is 7"
      ],
      "metadata": {
        "id": "S7esBDTKOih3"
      }
    },
    {
      "cell_type": "code",
      "source": [
        "#predicting first five images\n",
        "for j in range(5):\n",
        "  print(\"image for \", test_labels[j])\n",
        "  for i in range(10):\n",
        "    print(\"Probability for digit \", i, \":\" , predictions[j,i])"
      ],
      "metadata": {
        "colab": {
          "base_uri": "https://localhost:8080/"
        },
        "id": "rQnejBtlOsoc",
        "outputId": "0e7b61a4-e02f-4800-b3fc-c7ddc406ab25"
      },
      "execution_count": 20,
      "outputs": [
        {
          "output_type": "stream",
          "name": "stdout",
          "text": [
            "image for  7\n",
            "Probability for digit  0 : 1.1412287e-08\n",
            "Probability for digit  1 : 3.6233998e-09\n",
            "Probability for digit  2 : 4.418543e-06\n",
            "Probability for digit  3 : 5.274169e-05\n",
            "Probability for digit  4 : 7.932488e-13\n",
            "Probability for digit  5 : 4.56256e-08\n",
            "Probability for digit  6 : 1.5875184e-12\n",
            "Probability for digit  7 : 0.99994177\n",
            "Probability for digit  8 : 7.7516795e-08\n",
            "Probability for digit  9 : 9.3727317e-07\n",
            "image for  2\n",
            "Probability for digit  0 : 1.16991096e-07\n",
            "Probability for digit  1 : 1.10672145e-05\n",
            "Probability for digit  2 : 0.9999812\n",
            "Probability for digit  3 : 5.899925e-06\n",
            "Probability for digit  4 : 3.1680688e-15\n",
            "Probability for digit  5 : 7.260707e-08\n",
            "Probability for digit  6 : 1.6454322e-08\n",
            "Probability for digit  7 : 1.30425e-13\n",
            "Probability for digit  8 : 1.5884553e-06\n",
            "Probability for digit  9 : 1.3386277e-12\n",
            "image for  1\n",
            "Probability for digit  0 : 1.6207407e-07\n",
            "Probability for digit  1 : 0.99960476\n",
            "Probability for digit  2 : 1.4379345e-05\n",
            "Probability for digit  3 : 3.1713428e-06\n",
            "Probability for digit  4 : 2.1286018e-05\n",
            "Probability for digit  5 : 2.8536329e-06\n",
            "Probability for digit  6 : 5.9550584e-06\n",
            "Probability for digit  7 : 0.00029829706\n",
            "Probability for digit  8 : 4.0207095e-05\n",
            "Probability for digit  9 : 8.900445e-06\n",
            "image for  0\n",
            "Probability for digit  0 : 0.9999829\n",
            "Probability for digit  1 : 1.0579947e-08\n",
            "Probability for digit  2 : 1.2694381e-05\n",
            "Probability for digit  3 : 1.0837244e-09\n",
            "Probability for digit  4 : 6.2256625e-08\n",
            "Probability for digit  5 : 8.0866116e-08\n",
            "Probability for digit  6 : 2.5018232e-06\n",
            "Probability for digit  7 : 1.3684617e-06\n",
            "Probability for digit  8 : 9.995493e-10\n",
            "Probability for digit  9 : 3.702386e-07\n",
            "image for  4\n",
            "Probability for digit  0 : 7.4176235e-08\n",
            "Probability for digit  1 : 2.5686584e-09\n",
            "Probability for digit  2 : 3.1989677e-07\n",
            "Probability for digit  3 : 7.3365125e-10\n",
            "Probability for digit  4 : 0.9997047\n",
            "Probability for digit  5 : 8.239501e-09\n",
            "Probability for digit  6 : 1.2705381e-07\n",
            "Probability for digit  7 : 4.379404e-06\n",
            "Probability for digit  8 : 1.07337e-07\n",
            "Probability for digit  9 : 0.00029017098\n"
          ]
        }
      ]
    }
  ]
}