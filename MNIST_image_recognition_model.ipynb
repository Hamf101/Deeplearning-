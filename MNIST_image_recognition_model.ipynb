{
  "nbformat": 4,
  "nbformat_minor": 0,
  "metadata": {
    "colab": {
      "provenance": []
    },
    "kernelspec": {
      "name": "python3",
      "display_name": "Python 3"
    },
    "language_info": {
      "name": "python"
    }
  },
  "cells": [
    {
      "cell_type": "code",
      "execution_count": 1,
      "metadata": {
        "id": "huv7bGxLAmrM"
      },
      "outputs": [],
      "source": [
        "import tensorflow as tf\n",
        "from tensorflow import keras\n",
        "from tensorflow.keras import layers"
      ]
    },
    {
      "cell_type": "code",
      "source": [
        "from tensorflow.keras.datasets import mnist\n",
        "(train_images,train_labels),(test_images,test_labels) = mnist.load_data()"
      ],
      "metadata": {
        "colab": {
          "base_uri": "https://localhost:8080/"
        },
        "id": "ljeUHjk6CHUG",
        "outputId": "aadbf6e5-af27-4c8d-d435-e4366c3a1b7f"
      },
      "execution_count": 2,
      "outputs": [
        {
          "output_type": "stream",
          "name": "stdout",
          "text": [
            "Downloading data from https://storage.googleapis.com/tensorflow/tf-keras-datasets/mnist.npz\n",
            "11490434/11490434 [==============================] - 0s 0us/step\n"
          ]
        }
      ]
    },
    {
      "cell_type": "code",
      "source": [
        "print(train_labels[2])"
      ],
      "metadata": {
        "colab": {
          "base_uri": "https://localhost:8080/"
        },
        "id": "k4692vY4FPMk",
        "outputId": "aee3ec06-21ef-4bee-b133-99b9ab346176"
      },
      "execution_count": 3,
      "outputs": [
        {
          "output_type": "stream",
          "name": "stdout",
          "text": [
            "4\n"
          ]
        }
      ]
    },
    {
      "cell_type": "code",
      "source": [
        "model = keras.Sequential(\n",
        "              [layers.Dense(512, activation= \"relu\" ), #hidden ; sequential expects an array of the layers\n",
        "              layers.Dense(10, activation = \"softmax\")  #output ; activation function that gives probability\n",
        "              ]\n",
        "               )"
      ],
      "metadata": {
        "id": "XO2lMaH-FnDD"
      },
      "execution_count": 4,
      "outputs": []
    },
    {
      "cell_type": "code",
      "source": [
        "model.compile (optimizer = \"rmsprop\",\n",
        "              loss = \"sparse_categorical_crossentropy\",\n",
        "              metrics = [\"accuracy\"])"
      ],
      "metadata": {
        "id": "oBn-lKSfIGKL"
      },
      "execution_count": 5,
      "outputs": []
    },
    {
      "cell_type": "code",
      "source": [
        "#convert the images to 1-D array\n",
        "train_images=train_images.reshape(60000, 28*28)\n",
        "test_images=test_images.reshape(10000, 28*28)"
      ],
      "metadata": {
        "id": "z33vx6WGJZYw"
      },
      "execution_count": 6,
      "outputs": []
    },
    {
      "cell_type": "code",
      "source": [
        "train_images=train_images.astype(\"float32\")/255\n",
        "test_images=test_images.astype(\"float32\")/255"
      ],
      "metadata": {
        "id": "i2Gx-QIaKFLC"
      },
      "execution_count": 7,
      "outputs": []
    },
    {
      "cell_type": "code",
      "source": [
        "#import\n",
        "#load dataset\n",
        "#create the model\n",
        "#prepare datasets\n",
        "#train\n",
        "#test"
      ],
      "metadata": {
        "id": "dA4SquRyPlXr"
      },
      "execution_count": 8,
      "outputs": []
    },
    {
      "cell_type": "code",
      "source": [
        "#train\n",
        "model.fit(train_images, train_labels, epochs=30, batch_size=10000)"
      ],
      "metadata": {
        "colab": {
          "base_uri": "https://localhost:8080/"
        },
        "id": "6YTjnQCtLjq-",
        "outputId": "ed648a50-5a7b-408a-93cf-cf65710c950f"
      },
      "execution_count": 14,
      "outputs": [
        {
          "output_type": "stream",
          "name": "stdout",
          "text": [
            "Epoch 1/30\n",
            "6/6 [==============================] - 2s 288ms/step - loss: 0.0858 - accuracy: 0.9771\n",
            "Epoch 2/30\n",
            "6/6 [==============================] - 2s 283ms/step - loss: 0.0847 - accuracy: 0.9772\n",
            "Epoch 3/30\n",
            "6/6 [==============================] - 2s 272ms/step - loss: 0.0809 - accuracy: 0.9783\n",
            "Epoch 4/30\n",
            "6/6 [==============================] - 2s 275ms/step - loss: 0.0807 - accuracy: 0.9781\n",
            "Epoch 5/30\n",
            "6/6 [==============================] - 2s 340ms/step - loss: 0.0789 - accuracy: 0.9785\n",
            "Epoch 6/30\n",
            "6/6 [==============================] - 3s 428ms/step - loss: 0.0813 - accuracy: 0.9776\n",
            "Epoch 7/30\n",
            "6/6 [==============================] - 2s 271ms/step - loss: 0.0742 - accuracy: 0.9800\n",
            "Epoch 8/30\n",
            "6/6 [==============================] - 2s 276ms/step - loss: 0.0769 - accuracy: 0.9785\n",
            "Epoch 9/30\n",
            "6/6 [==============================] - 2s 276ms/step - loss: 0.0742 - accuracy: 0.9794\n",
            "Epoch 10/30\n",
            "6/6 [==============================] - 2s 272ms/step - loss: 0.0696 - accuracy: 0.9814\n",
            "Epoch 11/30\n",
            "6/6 [==============================] - 2s 276ms/step - loss: 0.0725 - accuracy: 0.9803\n",
            "Epoch 12/30\n",
            "6/6 [==============================] - 2s 271ms/step - loss: 0.0711 - accuracy: 0.9805\n",
            "Epoch 13/30\n",
            "6/6 [==============================] - 2s 438ms/step - loss: 0.0686 - accuracy: 0.9812\n",
            "Epoch 14/30\n",
            "6/6 [==============================] - 2s 380ms/step - loss: 0.0661 - accuracy: 0.9822\n",
            "Epoch 15/30\n",
            "6/6 [==============================] - 2s 273ms/step - loss: 0.0687 - accuracy: 0.9810\n",
            "Epoch 16/30\n",
            "6/6 [==============================] - 2s 289ms/step - loss: 0.0622 - accuracy: 0.9833\n",
            "Epoch 17/30\n",
            "6/6 [==============================] - 3s 440ms/step - loss: 0.0675 - accuracy: 0.9814\n",
            "Epoch 18/30\n",
            "6/6 [==============================] - 2s 328ms/step - loss: 0.0611 - accuracy: 0.9838\n",
            "Epoch 19/30\n",
            "6/6 [==============================] - 2s 326ms/step - loss: 0.0623 - accuracy: 0.9834\n",
            "Epoch 20/30\n",
            "6/6 [==============================] - 3s 472ms/step - loss: 0.0592 - accuracy: 0.9840\n",
            "Epoch 21/30\n",
            "6/6 [==============================] - 2s 273ms/step - loss: 0.0605 - accuracy: 0.9836\n",
            "Epoch 22/30\n",
            "6/6 [==============================] - 2s 273ms/step - loss: 0.0586 - accuracy: 0.9843\n",
            "Epoch 23/30\n",
            "6/6 [==============================] - 2s 278ms/step - loss: 0.0561 - accuracy: 0.9853\n",
            "Epoch 24/30\n",
            "6/6 [==============================] - 2s 274ms/step - loss: 0.0558 - accuracy: 0.9849\n",
            "Epoch 25/30\n",
            "6/6 [==============================] - 2s 279ms/step - loss: 0.0571 - accuracy: 0.9846\n",
            "Epoch 26/30\n",
            "6/6 [==============================] - 2s 278ms/step - loss: 0.0565 - accuracy: 0.9850\n",
            "Epoch 27/30\n",
            "6/6 [==============================] - 3s 440ms/step - loss: 0.0516 - accuracy: 0.9863\n",
            "Epoch 28/30\n",
            "6/6 [==============================] - 2s 333ms/step - loss: 0.0526 - accuracy: 0.9862\n",
            "Epoch 29/30\n",
            "6/6 [==============================] - 2s 277ms/step - loss: 0.0544 - accuracy: 0.9856\n",
            "Epoch 30/30\n",
            "6/6 [==============================] - 2s 269ms/step - loss: 0.0529 - accuracy: 0.9860\n"
          ]
        },
        {
          "output_type": "execute_result",
          "data": {
            "text/plain": [
              "<keras.src.callbacks.History at 0x7e737d15d930>"
            ]
          },
          "metadata": {},
          "execution_count": 14
        }
      ]
    },
    {
      "cell_type": "code",
      "source": [
        "#tetsing\n",
        "test1=test_images[0:10]\n",
        "predictions=model.predict(test1)"
      ],
      "metadata": {
        "colab": {
          "base_uri": "https://localhost:8080/"
        },
        "id": "n3ekcwkCNF1C",
        "outputId": "6783c90e-db14-4529-f577-dece9e9497be"
      },
      "execution_count": 15,
      "outputs": [
        {
          "output_type": "stream",
          "name": "stdout",
          "text": [
            "1/1 [==============================] - 0s 20ms/step\n"
          ]
        }
      ]
    },
    {
      "cell_type": "code",
      "source": [
        "for i in range(10):\n",
        "  print(i, \":\", predictions[5,i])"
      ],
      "metadata": {
        "colab": {
          "base_uri": "https://localhost:8080/"
        },
        "id": "gIN0EUIiNgap",
        "outputId": "c3bd6ad1-e7ca-4b94-a2de-caf72c846d1f"
      },
      "execution_count": 16,
      "outputs": [
        {
          "output_type": "stream",
          "name": "stdout",
          "text": [
            "0 : 9.209848e-07\n",
            "1 : 0.9974361\n",
            "2 : 2.3617145e-05\n",
            "3 : 1.4339353e-05\n",
            "4 : 2.0723495e-05\n",
            "5 : 1.9313095e-06\n",
            "6 : 5.776136e-07\n",
            "7 : 0.002430837\n",
            "8 : 6.145013e-05\n",
            "9 : 9.539414e-06\n"
          ]
        }
      ]
    },
    {
      "cell_type": "code",
      "source": [
        "print(test_labels[5])"
      ],
      "metadata": {
        "colab": {
          "base_uri": "https://localhost:8080/"
        },
        "id": "7xJWkxQaNzCP",
        "outputId": "1a2fd767-f39d-459d-9a7a-375055e7734b"
      },
      "execution_count": 17,
      "outputs": [
        {
          "output_type": "stream",
          "name": "stdout",
          "text": [
            "1\n"
          ]
        }
      ]
    }
  ]
}